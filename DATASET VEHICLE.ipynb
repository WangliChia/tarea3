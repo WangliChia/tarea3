{
 "cells": [
  {
   "cell_type": "code",
   "execution_count": 1,
   "id": "808247fa-2482-4545-bf05-40440af45abd",
   "metadata": {},
   "outputs": [
    {
     "data": {
      "text/html": [
       "<div>\n",
       "<style scoped>\n",
       "    .dataframe tbody tr th:only-of-type {\n",
       "        vertical-align: middle;\n",
       "    }\n",
       "\n",
       "    .dataframe tbody tr th {\n",
       "        vertical-align: top;\n",
       "    }\n",
       "\n",
       "    .dataframe thead th {\n",
       "        text-align: right;\n",
       "    }\n",
       "</style>\n",
       "<table border=\"1\" class=\"dataframe\">\n",
       "  <thead>\n",
       "    <tr style=\"text-align: right;\">\n",
       "      <th></th>\n",
       "      <th>name</th>\n",
       "      <th>year</th>\n",
       "      <th>selling_price</th>\n",
       "      <th>km_driven</th>\n",
       "      <th>fuel</th>\n",
       "      <th>seller_type</th>\n",
       "      <th>transmission</th>\n",
       "      <th>owner</th>\n",
       "      <th>mileage</th>\n",
       "      <th>engine</th>\n",
       "      <th>max_power</th>\n",
       "      <th>torque</th>\n",
       "      <th>seats</th>\n",
       "    </tr>\n",
       "  </thead>\n",
       "  <tbody>\n",
       "    <tr>\n",
       "      <th>0</th>\n",
       "      <td>Maruti Swift Dzire VDI</td>\n",
       "      <td>2014</td>\n",
       "      <td>450000</td>\n",
       "      <td>145500</td>\n",
       "      <td>Diesel</td>\n",
       "      <td>Individual</td>\n",
       "      <td>Manual</td>\n",
       "      <td>First Owner</td>\n",
       "      <td>23.4 kmpl</td>\n",
       "      <td>1248 CC</td>\n",
       "      <td>74 bhp</td>\n",
       "      <td>190Nm@ 2000rpm</td>\n",
       "      <td>5.0</td>\n",
       "    </tr>\n",
       "    <tr>\n",
       "      <th>1</th>\n",
       "      <td>Skoda Rapid 1.5 TDI Ambition</td>\n",
       "      <td>2014</td>\n",
       "      <td>370000</td>\n",
       "      <td>120000</td>\n",
       "      <td>Diesel</td>\n",
       "      <td>Individual</td>\n",
       "      <td>Manual</td>\n",
       "      <td>Second Owner</td>\n",
       "      <td>21.14 kmpl</td>\n",
       "      <td>1498 CC</td>\n",
       "      <td>103.52 bhp</td>\n",
       "      <td>250Nm@ 1500-2500rpm</td>\n",
       "      <td>5.0</td>\n",
       "    </tr>\n",
       "    <tr>\n",
       "      <th>2</th>\n",
       "      <td>Honda City 2017-2020 EXi</td>\n",
       "      <td>2006</td>\n",
       "      <td>158000</td>\n",
       "      <td>140000</td>\n",
       "      <td>Petrol</td>\n",
       "      <td>Individual</td>\n",
       "      <td>Manual</td>\n",
       "      <td>Third Owner</td>\n",
       "      <td>17.7 kmpl</td>\n",
       "      <td>1497 CC</td>\n",
       "      <td>78 bhp</td>\n",
       "      <td>12.7@ 2,700(kgm@ rpm)</td>\n",
       "      <td>5.0</td>\n",
       "    </tr>\n",
       "    <tr>\n",
       "      <th>3</th>\n",
       "      <td>Hyundai i20 Sportz Diesel</td>\n",
       "      <td>2010</td>\n",
       "      <td>225000</td>\n",
       "      <td>127000</td>\n",
       "      <td>Diesel</td>\n",
       "      <td>Individual</td>\n",
       "      <td>Manual</td>\n",
       "      <td>First Owner</td>\n",
       "      <td>23.0 kmpl</td>\n",
       "      <td>1396 CC</td>\n",
       "      <td>90 bhp</td>\n",
       "      <td>22.4 kgm at 1750-2750rpm</td>\n",
       "      <td>5.0</td>\n",
       "    </tr>\n",
       "    <tr>\n",
       "      <th>4</th>\n",
       "      <td>Maruti Swift VXI BSIII</td>\n",
       "      <td>2007</td>\n",
       "      <td>130000</td>\n",
       "      <td>120000</td>\n",
       "      <td>Petrol</td>\n",
       "      <td>Individual</td>\n",
       "      <td>Manual</td>\n",
       "      <td>First Owner</td>\n",
       "      <td>16.1 kmpl</td>\n",
       "      <td>1298 CC</td>\n",
       "      <td>88.2 bhp</td>\n",
       "      <td>11.5@ 4,500(kgm@ rpm)</td>\n",
       "      <td>5.0</td>\n",
       "    </tr>\n",
       "  </tbody>\n",
       "</table>\n",
       "</div>"
      ],
      "text/plain": [
       "                           name  year  selling_price  km_driven    fuel  \\\n",
       "0        Maruti Swift Dzire VDI  2014         450000     145500  Diesel   \n",
       "1  Skoda Rapid 1.5 TDI Ambition  2014         370000     120000  Diesel   \n",
       "2      Honda City 2017-2020 EXi  2006         158000     140000  Petrol   \n",
       "3     Hyundai i20 Sportz Diesel  2010         225000     127000  Diesel   \n",
       "4        Maruti Swift VXI BSIII  2007         130000     120000  Petrol   \n",
       "\n",
       "  seller_type transmission         owner     mileage   engine   max_power  \\\n",
       "0  Individual       Manual   First Owner   23.4 kmpl  1248 CC      74 bhp   \n",
       "1  Individual       Manual  Second Owner  21.14 kmpl  1498 CC  103.52 bhp   \n",
       "2  Individual       Manual   Third Owner   17.7 kmpl  1497 CC      78 bhp   \n",
       "3  Individual       Manual   First Owner   23.0 kmpl  1396 CC      90 bhp   \n",
       "4  Individual       Manual   First Owner   16.1 kmpl  1298 CC    88.2 bhp   \n",
       "\n",
       "                     torque  seats  \n",
       "0            190Nm@ 2000rpm    5.0  \n",
       "1       250Nm@ 1500-2500rpm    5.0  \n",
       "2     12.7@ 2,700(kgm@ rpm)    5.0  \n",
       "3  22.4 kgm at 1750-2750rpm    5.0  \n",
       "4     11.5@ 4,500(kgm@ rpm)    5.0  "
      ]
     },
     "execution_count": 1,
     "metadata": {},
     "output_type": "execute_result"
    }
   ],
   "source": [
    "import pandas as pd\n",
    "\n",
    "# Cargar el dataset\n",
    "ruta = r\"C:\\Users\\46210843\\OneDrive - Universidad Nacional Abierta y a Distancia\\6TO SEMESTRE\\ANÁLISIS DE DATOS\\trabajo 3\\Vehicle Dataset\\Car details v3.csv\"\n",
    "\n",
    "# Leer el archivo CSV\n",
    "df = pd.read_csv(ruta, encoding=\"latin1\")\n",
    "\n",
    "# Mostrar las primeras filas\n",
    "df.head()"
   ]
  },
  {
   "cell_type": "code",
   "execution_count": 2,
   "id": "1d6e11ce-b0f0-4905-bc03-2b7ad785db36",
   "metadata": {},
   "outputs": [
    {
     "name": "stdout",
     "output_type": "stream",
     "text": [
      "<class 'pandas.core.frame.DataFrame'>\n",
      "RangeIndex: 8128 entries, 0 to 8127\n",
      "Data columns (total 13 columns):\n",
      " #   Column         Non-Null Count  Dtype  \n",
      "---  ------         --------------  -----  \n",
      " 0   name           8128 non-null   object \n",
      " 1   year           8128 non-null   int64  \n",
      " 2   selling_price  8128 non-null   int64  \n",
      " 3   km_driven      8128 non-null   int64  \n",
      " 4   fuel           8128 non-null   object \n",
      " 5   seller_type    8128 non-null   object \n",
      " 6   transmission   8128 non-null   object \n",
      " 7   owner          8128 non-null   object \n",
      " 8   mileage        7907 non-null   object \n",
      " 9   engine         7907 non-null   object \n",
      " 10  max_power      7913 non-null   object \n",
      " 11  torque         7906 non-null   object \n",
      " 12  seats          7907 non-null   float64\n",
      "dtypes: float64(1), int64(3), object(9)\n",
      "memory usage: 825.6+ KB\n"
     ]
    },
    {
     "data": {
      "text/html": [
       "<div>\n",
       "<style scoped>\n",
       "    .dataframe tbody tr th:only-of-type {\n",
       "        vertical-align: middle;\n",
       "    }\n",
       "\n",
       "    .dataframe tbody tr th {\n",
       "        vertical-align: top;\n",
       "    }\n",
       "\n",
       "    .dataframe thead th {\n",
       "        text-align: right;\n",
       "    }\n",
       "</style>\n",
       "<table border=\"1\" class=\"dataframe\">\n",
       "  <thead>\n",
       "    <tr style=\"text-align: right;\">\n",
       "      <th></th>\n",
       "      <th>year</th>\n",
       "      <th>selling_price</th>\n",
       "      <th>km_driven</th>\n",
       "      <th>seats</th>\n",
       "    </tr>\n",
       "  </thead>\n",
       "  <tbody>\n",
       "    <tr>\n",
       "      <th>count</th>\n",
       "      <td>8128.000000</td>\n",
       "      <td>8.128000e+03</td>\n",
       "      <td>8.128000e+03</td>\n",
       "      <td>7907.000000</td>\n",
       "    </tr>\n",
       "    <tr>\n",
       "      <th>mean</th>\n",
       "      <td>2013.804011</td>\n",
       "      <td>6.382718e+05</td>\n",
       "      <td>6.981951e+04</td>\n",
       "      <td>5.416719</td>\n",
       "    </tr>\n",
       "    <tr>\n",
       "      <th>std</th>\n",
       "      <td>4.044249</td>\n",
       "      <td>8.062534e+05</td>\n",
       "      <td>5.655055e+04</td>\n",
       "      <td>0.959588</td>\n",
       "    </tr>\n",
       "    <tr>\n",
       "      <th>min</th>\n",
       "      <td>1983.000000</td>\n",
       "      <td>2.999900e+04</td>\n",
       "      <td>1.000000e+00</td>\n",
       "      <td>2.000000</td>\n",
       "    </tr>\n",
       "    <tr>\n",
       "      <th>25%</th>\n",
       "      <td>2011.000000</td>\n",
       "      <td>2.549990e+05</td>\n",
       "      <td>3.500000e+04</td>\n",
       "      <td>5.000000</td>\n",
       "    </tr>\n",
       "    <tr>\n",
       "      <th>50%</th>\n",
       "      <td>2015.000000</td>\n",
       "      <td>4.500000e+05</td>\n",
       "      <td>6.000000e+04</td>\n",
       "      <td>5.000000</td>\n",
       "    </tr>\n",
       "    <tr>\n",
       "      <th>75%</th>\n",
       "      <td>2017.000000</td>\n",
       "      <td>6.750000e+05</td>\n",
       "      <td>9.800000e+04</td>\n",
       "      <td>5.000000</td>\n",
       "    </tr>\n",
       "    <tr>\n",
       "      <th>max</th>\n",
       "      <td>2020.000000</td>\n",
       "      <td>1.000000e+07</td>\n",
       "      <td>2.360457e+06</td>\n",
       "      <td>14.000000</td>\n",
       "    </tr>\n",
       "  </tbody>\n",
       "</table>\n",
       "</div>"
      ],
      "text/plain": [
       "              year  selling_price     km_driven        seats\n",
       "count  8128.000000   8.128000e+03  8.128000e+03  7907.000000\n",
       "mean   2013.804011   6.382718e+05  6.981951e+04     5.416719\n",
       "std       4.044249   8.062534e+05  5.655055e+04     0.959588\n",
       "min    1983.000000   2.999900e+04  1.000000e+00     2.000000\n",
       "25%    2011.000000   2.549990e+05  3.500000e+04     5.000000\n",
       "50%    2015.000000   4.500000e+05  6.000000e+04     5.000000\n",
       "75%    2017.000000   6.750000e+05  9.800000e+04     5.000000\n",
       "max    2020.000000   1.000000e+07  2.360457e+06    14.000000"
      ]
     },
     "execution_count": 2,
     "metadata": {},
     "output_type": "execute_result"
    }
   ],
   "source": [
    "# Información general del dataset\n",
    "df.info()\n",
    "\n",
    "# Resumen estadístico\n",
    "df.describe()\n",
    "\n"
   ]
  },
  {
   "cell_type": "code",
   "execution_count": 3,
   "id": "5e8dbc7f-e8c6-4071-bced-63838565061c",
   "metadata": {},
   "outputs": [
    {
     "data": {
      "text/plain": [
       "name               0\n",
       "year               0\n",
       "selling_price      0\n",
       "km_driven          0\n",
       "fuel               0\n",
       "seller_type        0\n",
       "transmission       0\n",
       "owner              0\n",
       "mileage          221\n",
       "engine           221\n",
       "max_power        215\n",
       "torque           222\n",
       "seats            221\n",
       "dtype: int64"
      ]
     },
     "execution_count": 3,
     "metadata": {},
     "output_type": "execute_result"
    }
   ],
   "source": [
    "# Mostrar valores nulos en cada columna\n",
    "df.isnull().sum()\n"
   ]
  },
  {
   "cell_type": "code",
   "execution_count": 4,
   "id": "3ab6fed4-0358-4016-b144-a79e296a4700",
   "metadata": {},
   "outputs": [
    {
     "name": "stdout",
     "output_type": "stream",
     "text": [
      "<class 'pandas.core.frame.DataFrame'>\n",
      "RangeIndex: 8128 entries, 0 to 8127\n",
      "Data columns (total 3 columns):\n",
      " #   Column     Non-Null Count  Dtype  \n",
      "---  ------     --------------  -----  \n",
      " 0   mileage    7907 non-null   float64\n",
      " 1   engine     7907 non-null   float64\n",
      " 2   max_power  7912 non-null   float64\n",
      "dtypes: float64(3)\n",
      "memory usage: 190.6 KB\n"
     ]
    }
   ],
   "source": [
    "# Convertir 'mileage' eliminando ' kmpl' y convirtiendo a float\n",
    "df[\"mileage\"] = df[\"mileage\"].str.replace(\" kmpl\", \"\", regex=True)\n",
    "df[\"mileage\"] = df[\"mileage\"].str.replace(\" km/kg\", \"\", regex=True)  # Para autos eléctricos\n",
    "df[\"mileage\"] = pd.to_numeric(df[\"mileage\"], errors=\"coerce\")  # Convertir a número\n",
    "\n",
    "# Convertir 'engine' eliminando ' CC' y convirtiendo a float\n",
    "df[\"engine\"] = df[\"engine\"].str.replace(\" CC\", \"\", regex=True)\n",
    "df[\"engine\"] = pd.to_numeric(df[\"engine\"], errors=\"coerce\")\n",
    "\n",
    "# Convertir 'max_power' eliminando ' bhp' y convirtiendo a float\n",
    "df[\"max_power\"] = df[\"max_power\"].str.replace(\" bhp\", \"\", regex=True)\n",
    "df[\"max_power\"] = pd.to_numeric(df[\"max_power\"], errors=\"coerce\")\n",
    "\n",
    "# Verificar que los datos sean numéricos\n",
    "df[[\"mileage\", \"engine\", \"max_power\"]].info()"
   ]
  },
  {
   "cell_type": "code",
   "execution_count": 5,
   "id": "2ce828f2-d871-40aa-be55-51a0856b3ae2",
   "metadata": {},
   "outputs": [
    {
     "data": {
      "text/plain": [
       "name             0\n",
       "year             0\n",
       "selling_price    0\n",
       "km_driven        0\n",
       "fuel             0\n",
       "seller_type      0\n",
       "transmission     0\n",
       "owner            0\n",
       "mileage          0\n",
       "engine           0\n",
       "max_power        0\n",
       "seats            0\n",
       "dtype: int64"
      ]
     },
     "execution_count": 5,
     "metadata": {},
     "output_type": "execute_result"
    }
   ],
   "source": [
    "\n",
    "\n",
    "# Reemplazar valores nulos con la mediana sin usar inplace=True\n",
    "df[\"mileage\"] = df[\"mileage\"].fillna(df[\"mileage\"].median())\n",
    "df[\"engine\"] = df[\"engine\"].fillna(df[\"engine\"].median())\n",
    "df[\"max_power\"] = df[\"max_power\"].fillna(df[\"max_power\"].median())\n",
    "df[\"seats\"] = df[\"seats\"].fillna(df[\"seats\"].median())\n",
    "\n",
    "# Eliminar la columna 'torque'\n",
    "df = df.drop(columns=[\"torque\"])\n",
    "\n",
    "# Verificar si quedan valores nulos\n",
    "df.isnull().sum()"
   ]
  },
  {
   "cell_type": "code",
   "execution_count": 6,
   "id": "d18355d9-decf-4c3b-bb39-7d2509e50b8d",
   "metadata": {},
   "outputs": [
    {
     "name": "stdout",
     "output_type": "stream",
     "text": [
      "fuel: ['Diesel' 'Petrol' 'LPG' 'CNG']\n",
      "seller_type: ['Individual' 'Dealer' 'Trustmark Dealer']\n",
      "transmission: ['Manual' 'Automatic']\n",
      "owner: ['First Owner' 'Second Owner' 'Third Owner' 'Fourth & Above Owner'\n",
      " 'Test Drive Car']\n"
     ]
    }
   ],
   "source": [
    "# Mostrar valores únicos en columnas categóricas\n",
    "categorical_columns = [\"fuel\", \"seller_type\", \"transmission\", \"owner\"]\n",
    "for col in categorical_columns:\n",
    "    print(f\"{col}: {df[col].unique()}\")\n"
   ]
  },
  {
   "cell_type": "code",
   "execution_count": 7,
   "id": "e3d6c68c-2caa-4a51-8b9f-7ba5a66b0cab",
   "metadata": {},
   "outputs": [],
   "source": [
    "df = pd.get_dummies(df, columns=[\"fuel\", \"seller_type\", \"transmission\"], drop_first=True)\n"
   ]
  },
  {
   "cell_type": "code",
   "execution_count": 8,
   "id": "c7185e62-5eea-4239-aa01-59cd90a6e799",
   "metadata": {},
   "outputs": [],
   "source": [
    "owner_mapping = {\n",
    "    \"First Owner\": 1,\n",
    "    \"Second Owner\": 2,\n",
    "    \"Third Owner\": 3,\n",
    "    \"Fourth & Above Owner\": 4,\n",
    "    \"Test Drive Car\": 0\n",
    "}\n",
    "df[\"owner\"] = df[\"owner\"].map(owner_mapping)\n"
   ]
  },
  {
   "cell_type": "code",
   "execution_count": 9,
   "id": "92ce6f67-d1b4-4bbe-89cb-905d09360a45",
   "metadata": {},
   "outputs": [
    {
     "name": "stdout",
     "output_type": "stream",
     "text": [
      "                           name  year  selling_price  km_driven  owner  \\\n",
      "0        Maruti Swift Dzire VDI  2014         450000     145500      1   \n",
      "1  Skoda Rapid 1.5 TDI Ambition  2014         370000     120000      2   \n",
      "2      Honda City 2017-2020 EXi  2006         158000     140000      3   \n",
      "3     Hyundai i20 Sportz Diesel  2010         225000     127000      1   \n",
      "4        Maruti Swift VXI BSIII  2007         130000     120000      1   \n",
      "\n",
      "   mileage  engine  max_power  seats  fuel_Diesel  fuel_LPG  fuel_Petrol  \\\n",
      "0    23.40  1248.0      74.00    5.0         True     False        False   \n",
      "1    21.14  1498.0     103.52    5.0         True     False        False   \n",
      "2    17.70  1497.0      78.00    5.0        False     False         True   \n",
      "3    23.00  1396.0      90.00    5.0         True     False        False   \n",
      "4    16.10  1298.0      88.20    5.0        False     False         True   \n",
      "\n",
      "   seller_type_Individual  seller_type_Trustmark Dealer  transmission_Manual  \n",
      "0                    True                         False                 True  \n",
      "1                    True                         False                 True  \n",
      "2                    True                         False                 True  \n",
      "3                    True                         False                 True  \n",
      "4                    True                         False                 True  \n",
      "<class 'pandas.core.frame.DataFrame'>\n",
      "RangeIndex: 8128 entries, 0 to 8127\n",
      "Data columns (total 15 columns):\n",
      " #   Column                        Non-Null Count  Dtype  \n",
      "---  ------                        --------------  -----  \n",
      " 0   name                          8128 non-null   object \n",
      " 1   year                          8128 non-null   int64  \n",
      " 2   selling_price                 8128 non-null   int64  \n",
      " 3   km_driven                     8128 non-null   int64  \n",
      " 4   owner                         8128 non-null   int64  \n",
      " 5   mileage                       8128 non-null   float64\n",
      " 6   engine                        8128 non-null   float64\n",
      " 7   max_power                     8128 non-null   float64\n",
      " 8   seats                         8128 non-null   float64\n",
      " 9   fuel_Diesel                   8128 non-null   bool   \n",
      " 10  fuel_LPG                      8128 non-null   bool   \n",
      " 11  fuel_Petrol                   8128 non-null   bool   \n",
      " 12  seller_type_Individual        8128 non-null   bool   \n",
      " 13  seller_type_Trustmark Dealer  8128 non-null   bool   \n",
      " 14  transmission_Manual           8128 non-null   bool   \n",
      "dtypes: bool(6), float64(4), int64(4), object(1)\n",
      "memory usage: 619.2+ KB\n",
      "None\n"
     ]
    }
   ],
   "source": [
    "print(df.head())  # Muestra las primeras filas\n",
    "print(df.info())  # Verifica que las columnas categóricas fueron transformadas\n"
   ]
  },
  {
   "cell_type": "code",
   "execution_count": 10,
   "id": "b8e0059c-914b-40fc-a009-7dcffe03606b",
   "metadata": {},
   "outputs": [],
   "source": [
    "df.drop(columns=[\"name\"], inplace=True)\n"
   ]
  },
  {
   "cell_type": "code",
   "execution_count": 11,
   "id": "2270d959-2213-43ab-a473-b4e7f171f973",
   "metadata": {},
   "outputs": [],
   "source": [
    "X = df.drop(columns=[\"selling_price\"])  # Todas las columnas excepto el precio\n",
    "y = df[\"selling_price\"]  # Variable objetivo (precio del automóvil)\n"
   ]
  },
  {
   "cell_type": "code",
   "execution_count": 12,
   "id": "c3b30adc-5e7f-4f52-bd8c-766bb2b8a496",
   "metadata": {},
   "outputs": [
    {
     "data": {
      "text/plain": [
       "((6502, 13), (1626, 13), (6502,), (1626,))"
      ]
     },
     "execution_count": 12,
     "metadata": {},
     "output_type": "execute_result"
    }
   ],
   "source": [
    "from sklearn.model_selection import train_test_split\n",
    "\n",
    "# 80% entrenamiento, 20% prueba\n",
    "X_train, X_test, y_train, y_test = train_test_split(X, y, test_size=0.2, random_state=42)\n",
    "\n",
    "# Ver tamaños\n",
    "X_train.shape, X_test.shape, y_train.shape, y_test.shape\n"
   ]
  },
  {
   "cell_type": "code",
   "execution_count": 13,
   "id": "fdfbbcaf-26c7-4577-b40a-fb1bdf9fcbe4",
   "metadata": {},
   "outputs": [
    {
     "name": "stdout",
     "output_type": "stream",
     "text": [
      "     Real       Predicho\n",
      "0  198000  181839.576133\n",
      "1  500000  896076.001735\n",
      "2  425000  477065.686872\n",
      "3  150000  295388.633233\n",
      "4  525000  357497.926910\n"
     ]
    }
   ],
   "source": [
    "from sklearn.linear_model import LinearRegression\n",
    "\n",
    "# Crear el modelo de regresión lineal\n",
    "modelo_rl = LinearRegression()\n",
    "\n",
    "# Entrenar el modelo con los datos de entrenamiento\n",
    "modelo_rl.fit(X_train, y_train)\n",
    "\n",
    "# Hacer predicciones en los datos de prueba\n",
    "y_pred = modelo_rl.predict(X_test)\n",
    "\n",
    "# Mostrar las primeras 5 predicciones vs valores reales\n",
    "import pandas as pd\n",
    "resultados = pd.DataFrame({\"Real\": y_test.values, \"Predicho\": y_pred})\n",
    "print(resultados.head())\n"
   ]
  },
  {
   "cell_type": "code",
   "execution_count": 14,
   "id": "8d1efa60-4a0b-49d4-87ca-14b57fc7c98f",
   "metadata": {},
   "outputs": [
    {
     "name": "stdout",
     "output_type": "stream",
     "text": [
      "R² (Coeficiente de determinación): 0.6885\n",
      "MAE (Error Absoluto Medio): 270094.61\n",
      "RMSE (Raíz del Error Cuadrático Medio): 451861.49\n"
     ]
    }
   ],
   "source": [
    "from sklearn.metrics import r2_score, mean_absolute_error, mean_squared_error\n",
    "import numpy as np\n",
    "\n",
    "# Calcular R²\n",
    "r2 = r2_score(y_test, y_pred)\n",
    "\n",
    "# Calcular MAE (Error Absoluto Medio)\n",
    "mae = mean_absolute_error(y_test, y_pred)\n",
    "\n",
    "# Calcular RMSE (Raíz del Error Cuadrático Medio)\n",
    "rmse = np.sqrt(mean_squared_error(y_test, y_pred))\n",
    "\n",
    "# Mostrar resultados\n",
    "print(f\"R² (Coeficiente de determinación): {r2:.4f}\")\n",
    "print(f\"MAE (Error Absoluto Medio): {mae:.2f}\")\n",
    "print(f\"RMSE (Raíz del Error Cuadrático Medio): {rmse:.2f}\")\n"
   ]
  },
  {
   "cell_type": "code",
   "execution_count": 15,
   "id": "b098de69-d0ea-488a-9c7f-b8b80ff7f5ad",
   "metadata": {},
   "outputs": [
    {
     "data": {
      "image/png": "[encoded data removed]",
      "text/plain": [
       "<Figure size 800x600 with 1 Axes>"
      ]
     },
     "metadata": {},
     "output_type": "display_data"
    }
   ],
   "source": [
    "import matplotlib.pyplot as plt\n",
    "import seaborn as sns\n",
    "\n",
    "plt.figure(figsize=(8,6))\n",
    "sns.scatterplot(x=y_test, y=y_pred, alpha=0.6)\n",
    "plt.plot([y_test.min(), y_test.max()], [y_test.min(), y_test.max()], color='red', linestyle='--')\n",
    "plt.xlabel(\"Precio Real\")\n",
    "plt.ylabel(\"Precio Predicho\")\n",
    "plt.title(\"Predicción vs Realidad - Regresión Lineal\")\n",
    "plt.show()\n"
   ]
  },
  {
   "cell_type": "code",
   "execution_count": 17,
   "id": "2b487334-aefa-4123-b986-daff18b5fef4",
   "metadata": {},
   "outputs": [],
   "source": [
    "### Interpretación del Modelo de Regresión Lineal\n",
    "\n",
    "###El modelo de regresión lineal fue entrenado utilizando el conjunto de datos `Car details v3.csv`, y logró un R² de 0.6885, lo cual indica que puede explicar aproximadamente el 69% de la variabilidad en los precios de los automóviles.\n",
    "\n",
    "###Las métricas obtenidas muestran:\n",
    "###- MAE (Error Absoluto Medio): 270,094.61\n",
    "###- RMSE (Raíz del Error Cuadrático Medio): 451,861.49\n",
    "\n",
    "###Esto implica que el modelo comete errores significativos en algunos casos, especialmente con autos de precio elevado.\n",
    "\n",
    "###La gráfica de dispersión entre valores reales y predichos muestra una tendencia lineal clara, pero también revela que el modelo tiende a subestimar o sobreestimar precios en extremos altos.\n",
    "\n",
    "###Se sugiere probar modelos como Árboles de Decisión o Random Forest para mejorar la capacidad predictiva, ya que estos pueden manejar relaciones no lineales de manera más efectiva.\n"
   ]
  },
  {
   "cell_type": "code",
   "execution_count": null,
   "id": "6ad6c4e8-4a9a-45be-ae97-891fb6e737bc",
   "metadata": {},
   "outputs": [],
   "source": []
  }
 ],
 "metadata": {
  "kernelspec": {
   "display_name": "Python 3 (ipykernel)",
   "language": "python",
   "name": "python3"
  },
  "language_info": {
   "codemirror_mode": {
    "name": "ipython",
    "version": 3
   },
   "file_extension": ".py",
   "mimetype": "text/x-python",
   "name": "python",
   "nbconvert_exporter": "python",
   "pygments_lexer": "ipython3",
   "version": "3.9.21"
  }
 },
 "nbformat": 4,
 "nbformat_minor": 5
}
